{
 "cells": [
  {
   "cell_type": "markdown",
   "metadata": {},
   "source": [
    "\n",
    "# Project: Investigate tmdb movies data set\n",
    "\n",
    "## Table of Contents\n",
    "<ul>\n",
    "<li><a href=\"#intro\">Introduction</a></li>\n",
    "<li><a href=\"#wrangling\">Data Wrangling</a></li>\n",
    "<li><a href=\"#reconstruct\">Columns Restructuring</a></li>\n",
    "<li><a href=\"#eda\">Exploratory Data Analysis</a></li>\n",
    "<li><a href=\"#conclusions\">Conclusions</a></li>\n",
    "</ul>"
   ]
  },
  {
   "cell_type": "markdown",
   "metadata": {},
   "source": [
    "<a id='intro'></a>\n",
    "## Introduction\n",
    "\n",
    "#### the movie industry is one of the biggest in the world so we have to analyze the outcome data from this industry frequently , In order to improve it\n",
    "#### Foetunately , I have a quite large data set contains data about movies from 1960 to 2015 , so I will use this data set to answer the following questions:\n",
    "#### 1.a ) which genre gained the most revenue?\n",
    "#### 1.b ) which genre costed the most budget?\n",
    "#### 1.c ) which genre has the highest rate?\n",
    "#### 2 ) which month landed the most revenue?\n",
    "#### 3 ) Is there a relationship beteen the run_time of the movie and the vote it might gets?\n",
    "#### 4 ) who is the dominate director in terms of revenue?\n"
   ]
  },
  {
   "cell_type": "code",
   "execution_count": 2,
   "metadata": {},
   "outputs": [],
   "source": [
    "import numpy as np\n",
    "import pandas as pd \n",
    "import matplotlib.pyplot as plt\n",
    "import seaborn as sns\n",
    "# Change floats from displaying in scientific notation\n",
    "pd.options.display.float_format = '{:20,.2f}'.format"
   ]
  },
  {
   "cell_type": "markdown",
   "metadata": {},
   "source": [
    "<a id='wrangling'></a>\n",
    "## Data Wrangling & Cleaning\n",
    "\n",
    "\n",
    "### General Properties"
   ]
  },
  {
   "cell_type": "markdown",
   "metadata": {},
   "source": [
    "First we load the data set to take a quick look at its structure"
   ]
  },
  {
   "cell_type": "code",
   "execution_count": 3,
   "metadata": {
    "scrolled": true
   },
   "outputs": [
    {
     "data": {
      "text/html": [
       "<div>\n",
       "<style scoped>\n",
       "    .dataframe tbody tr th:only-of-type {\n",
       "        vertical-align: middle;\n",
       "    }\n",
       "\n",
       "    .dataframe tbody tr th {\n",
       "        vertical-align: top;\n",
       "    }\n",
       "\n",
       "    .dataframe thead th {\n",
       "        text-align: right;\n",
       "    }\n",
       "</style>\n",
       "<table border=\"1\" class=\"dataframe\">\n",
       "  <thead>\n",
       "    <tr style=\"text-align: right;\">\n",
       "      <th></th>\n",
       "      <th>id</th>\n",
       "      <th>imdb_id</th>\n",
       "      <th>popularity</th>\n",
       "      <th>budget</th>\n",
       "      <th>revenue</th>\n",
       "      <th>original_title</th>\n",
       "      <th>cast</th>\n",
       "      <th>homepage</th>\n",
       "      <th>director</th>\n",
       "      <th>tagline</th>\n",
       "      <th>...</th>\n",
       "      <th>overview</th>\n",
       "      <th>runtime</th>\n",
       "      <th>genres</th>\n",
       "      <th>production_companies</th>\n",
       "      <th>release_date</th>\n",
       "      <th>vote_count</th>\n",
       "      <th>vote_average</th>\n",
       "      <th>release_year</th>\n",
       "      <th>budget_adj</th>\n",
       "      <th>revenue_adj</th>\n",
       "    </tr>\n",
       "  </thead>\n",
       "  <tbody>\n",
       "    <tr>\n",
       "      <th>0</th>\n",
       "      <td>135397</td>\n",
       "      <td>tt0369610</td>\n",
       "      <td>32.99</td>\n",
       "      <td>150000000</td>\n",
       "      <td>1513528810</td>\n",
       "      <td>Jurassic World</td>\n",
       "      <td>Chris Pratt|Bryce Dallas Howard|Irrfan Khan|Vi...</td>\n",
       "      <td>http://www.jurassicworld.com/</td>\n",
       "      <td>Colin Trevorrow</td>\n",
       "      <td>The park is open.</td>\n",
       "      <td>...</td>\n",
       "      <td>Twenty-two years after the events of Jurassic ...</td>\n",
       "      <td>124</td>\n",
       "      <td>Action|Adventure|Science Fiction|Thriller</td>\n",
       "      <td>Universal Studios|Amblin Entertainment|Legenda...</td>\n",
       "      <td>6/9/15</td>\n",
       "      <td>5562</td>\n",
       "      <td>6.50</td>\n",
       "      <td>2015</td>\n",
       "      <td>137,999,939.28</td>\n",
       "      <td>1,392,445,892.52</td>\n",
       "    </tr>\n",
       "    <tr>\n",
       "      <th>1</th>\n",
       "      <td>76341</td>\n",
       "      <td>tt1392190</td>\n",
       "      <td>28.42</td>\n",
       "      <td>150000000</td>\n",
       "      <td>378436354</td>\n",
       "      <td>Mad Max: Fury Road</td>\n",
       "      <td>Tom Hardy|Charlize Theron|Hugh Keays-Byrne|Nic...</td>\n",
       "      <td>http://www.madmaxmovie.com/</td>\n",
       "      <td>George Miller</td>\n",
       "      <td>What a Lovely Day.</td>\n",
       "      <td>...</td>\n",
       "      <td>An apocalyptic story set in the furthest reach...</td>\n",
       "      <td>120</td>\n",
       "      <td>Action|Adventure|Science Fiction|Thriller</td>\n",
       "      <td>Village Roadshow Pictures|Kennedy Miller Produ...</td>\n",
       "      <td>5/13/15</td>\n",
       "      <td>6185</td>\n",
       "      <td>7.10</td>\n",
       "      <td>2015</td>\n",
       "      <td>137,999,939.28</td>\n",
       "      <td>348,161,292.49</td>\n",
       "    </tr>\n",
       "    <tr>\n",
       "      <th>2</th>\n",
       "      <td>262500</td>\n",
       "      <td>tt2908446</td>\n",
       "      <td>13.11</td>\n",
       "      <td>110000000</td>\n",
       "      <td>295238201</td>\n",
       "      <td>Insurgent</td>\n",
       "      <td>Shailene Woodley|Theo James|Kate Winslet|Ansel...</td>\n",
       "      <td>http://www.thedivergentseries.movie/#insurgent</td>\n",
       "      <td>Robert Schwentke</td>\n",
       "      <td>One Choice Can Destroy You</td>\n",
       "      <td>...</td>\n",
       "      <td>Beatrice Prior must confront her inner demons ...</td>\n",
       "      <td>119</td>\n",
       "      <td>Adventure|Science Fiction|Thriller</td>\n",
       "      <td>Summit Entertainment|Mandeville Films|Red Wago...</td>\n",
       "      <td>3/18/15</td>\n",
       "      <td>2480</td>\n",
       "      <td>6.30</td>\n",
       "      <td>2015</td>\n",
       "      <td>101,199,955.47</td>\n",
       "      <td>271,619,025.41</td>\n",
       "    </tr>\n",
       "    <tr>\n",
       "      <th>3</th>\n",
       "      <td>140607</td>\n",
       "      <td>tt2488496</td>\n",
       "      <td>11.17</td>\n",
       "      <td>200000000</td>\n",
       "      <td>2068178225</td>\n",
       "      <td>Star Wars: The Force Awakens</td>\n",
       "      <td>Harrison Ford|Mark Hamill|Carrie Fisher|Adam D...</td>\n",
       "      <td>http://www.starwars.com/films/star-wars-episod...</td>\n",
       "      <td>J.J. Abrams</td>\n",
       "      <td>Every generation has a story.</td>\n",
       "      <td>...</td>\n",
       "      <td>Thirty years after defeating the Galactic Empi...</td>\n",
       "      <td>136</td>\n",
       "      <td>Action|Adventure|Science Fiction|Fantasy</td>\n",
       "      <td>Lucasfilm|Truenorth Productions|Bad Robot</td>\n",
       "      <td>12/15/15</td>\n",
       "      <td>5292</td>\n",
       "      <td>7.50</td>\n",
       "      <td>2015</td>\n",
       "      <td>183,999,919.04</td>\n",
       "      <td>1,902,723,129.80</td>\n",
       "    </tr>\n",
       "    <tr>\n",
       "      <th>4</th>\n",
       "      <td>168259</td>\n",
       "      <td>tt2820852</td>\n",
       "      <td>9.34</td>\n",
       "      <td>190000000</td>\n",
       "      <td>1506249360</td>\n",
       "      <td>Furious 7</td>\n",
       "      <td>Vin Diesel|Paul Walker|Jason Statham|Michelle ...</td>\n",
       "      <td>http://www.furious7.com/</td>\n",
       "      <td>James Wan</td>\n",
       "      <td>Vengeance Hits Home</td>\n",
       "      <td>...</td>\n",
       "      <td>Deckard Shaw seeks revenge against Dominic Tor...</td>\n",
       "      <td>137</td>\n",
       "      <td>Action|Crime|Thriller</td>\n",
       "      <td>Universal Pictures|Original Film|Media Rights ...</td>\n",
       "      <td>4/1/15</td>\n",
       "      <td>2947</td>\n",
       "      <td>7.30</td>\n",
       "      <td>2015</td>\n",
       "      <td>174,799,923.09</td>\n",
       "      <td>1,385,748,801.47</td>\n",
       "    </tr>\n",
       "  </tbody>\n",
       "</table>\n",
       "<p>5 rows × 21 columns</p>\n",
       "</div>"
      ],
      "text/plain": [
       "       id    imdb_id           popularity     budget     revenue  \\\n",
       "0  135397  tt0369610                32.99  150000000  1513528810   \n",
       "1   76341  tt1392190                28.42  150000000   378436354   \n",
       "2  262500  tt2908446                13.11  110000000   295238201   \n",
       "3  140607  tt2488496                11.17  200000000  2068178225   \n",
       "4  168259  tt2820852                 9.34  190000000  1506249360   \n",
       "\n",
       "                 original_title  \\\n",
       "0                Jurassic World   \n",
       "1            Mad Max: Fury Road   \n",
       "2                     Insurgent   \n",
       "3  Star Wars: The Force Awakens   \n",
       "4                     Furious 7   \n",
       "\n",
       "                                                cast  \\\n",
       "0  Chris Pratt|Bryce Dallas Howard|Irrfan Khan|Vi...   \n",
       "1  Tom Hardy|Charlize Theron|Hugh Keays-Byrne|Nic...   \n",
       "2  Shailene Woodley|Theo James|Kate Winslet|Ansel...   \n",
       "3  Harrison Ford|Mark Hamill|Carrie Fisher|Adam D...   \n",
       "4  Vin Diesel|Paul Walker|Jason Statham|Michelle ...   \n",
       "\n",
       "                                            homepage          director  \\\n",
       "0                      http://www.jurassicworld.com/   Colin Trevorrow   \n",
       "1                        http://www.madmaxmovie.com/     George Miller   \n",
       "2     http://www.thedivergentseries.movie/#insurgent  Robert Schwentke   \n",
       "3  http://www.starwars.com/films/star-wars-episod...       J.J. Abrams   \n",
       "4                           http://www.furious7.com/         James Wan   \n",
       "\n",
       "                         tagline  ...  \\\n",
       "0              The park is open.  ...   \n",
       "1             What a Lovely Day.  ...   \n",
       "2     One Choice Can Destroy You  ...   \n",
       "3  Every generation has a story.  ...   \n",
       "4            Vengeance Hits Home  ...   \n",
       "\n",
       "                                            overview runtime  \\\n",
       "0  Twenty-two years after the events of Jurassic ...     124   \n",
       "1  An apocalyptic story set in the furthest reach...     120   \n",
       "2  Beatrice Prior must confront her inner demons ...     119   \n",
       "3  Thirty years after defeating the Galactic Empi...     136   \n",
       "4  Deckard Shaw seeks revenge against Dominic Tor...     137   \n",
       "\n",
       "                                      genres  \\\n",
       "0  Action|Adventure|Science Fiction|Thriller   \n",
       "1  Action|Adventure|Science Fiction|Thriller   \n",
       "2         Adventure|Science Fiction|Thriller   \n",
       "3   Action|Adventure|Science Fiction|Fantasy   \n",
       "4                      Action|Crime|Thriller   \n",
       "\n",
       "                                production_companies release_date vote_count  \\\n",
       "0  Universal Studios|Amblin Entertainment|Legenda...       6/9/15       5562   \n",
       "1  Village Roadshow Pictures|Kennedy Miller Produ...      5/13/15       6185   \n",
       "2  Summit Entertainment|Mandeville Films|Red Wago...      3/18/15       2480   \n",
       "3          Lucasfilm|Truenorth Productions|Bad Robot     12/15/15       5292   \n",
       "4  Universal Pictures|Original Film|Media Rights ...       4/1/15       2947   \n",
       "\n",
       "          vote_average  release_year           budget_adj          revenue_adj  \n",
       "0                 6.50          2015       137,999,939.28     1,392,445,892.52  \n",
       "1                 7.10          2015       137,999,939.28       348,161,292.49  \n",
       "2                 6.30          2015       101,199,955.47       271,619,025.41  \n",
       "3                 7.50          2015       183,999,919.04     1,902,723,129.80  \n",
       "4                 7.30          2015       174,799,923.09     1,385,748,801.47  \n",
       "\n",
       "[5 rows x 21 columns]"
      ]
     },
     "execution_count": 3,
     "metadata": {},
     "output_type": "execute_result"
    }
   ],
   "source": [
    "# Load your data and print out a few lines. Perform operations to inspect data\n",
    "#   types and look for instances of missing or possibly errant data.\n",
    "df = pd.read_csv(\"tmdb-movies.csv\")\n",
    "df.head()"
   ]
  },
  {
   "cell_type": "markdown",
   "metadata": {},
   "source": [
    "So we notice here that we have a 21-column data set ! ..\n",
    "But not all these columns will participate at our conquest to solve the upcoming questions , so I will terminate some of these\n",
    "columns and I will justify for that briefly."
   ]
  },
  {
   "cell_type": "markdown",
   "metadata": {},
   "source": [
    "I will remove the following columns:\n",
    "\"id\",\"imdb_id\",\"popularity\",\"budget\",\"revenue\",\"original_title\",\"cast\",\"homepage\",\"tagline\",\"keywords\",\"overview\",\"production_companies\",\"vote_count\""
   ]
  },
  {
   "cell_type": "markdown",
   "metadata": {},
   "source": [
    "# But Why?\n",
    "well the the reason varies actually ..\n",
    "both \"id\" and \"imdb_id\" have been created to distinguish each case and that is something I don't need to answer the upcoming questions.\n",
    "\n",
    "\n",
    "all of the \"original_title\",\"homepage\",\"tagline\",\"keywords\",\"overview\" columns are adittional information about each case which is irrelevant to the upcoming questions.\n",
    "\n",
    "\n",
    "In this data set we have cases from 1960 till 2015 and the value of the money differs accounting for inflation over time so it would be wrong if we compared there budget and revenue values to each other so we drop the \"budget\",\"revenue\" and instead of them we use \"budget_adj\" \"revenue_adj\" which show the budget and revenue of the associated movie in terms of 2010 dollars.\n",
    "\n",
    "\n",
    "\"cast\",\"\"production_companies\",\"vote_count\",\"release_year\" I wouldn't call them usless information .. of course not \n",
    "they're just irrelevant to the questions I will try to answer so why carrying them around?\n",
    "\n",
    "\n",
    "\"popularity\" .. well it surprised me to that I wil not use that column for instance to investigate which is the most popular movie genre but the reason is the data in this column is extremly skewed and dosen't make any sense to me so I dropes that column and used the \"vote_average\" column instead which is normally distributed."
   ]
  },
  {
   "cell_type": "markdown",
   "metadata": {},
   "source": [
    "# \"popularity\" vs \"vote_average\""
   ]
  },
  {
   "cell_type": "code",
   "execution_count": 16,
   "metadata": {},
   "outputs": [
    {
     "data": {
      "image/png": "[encoded data removed]",
      "text/plain": [
       "<Figure size 1800x504 with 1 Axes>"
      ]
     },
     "metadata": {
      "needs_background": "light"
     },
     "output_type": "display_data"
    }
   ],
   "source": [
    "f, ax = plt.subplots(figsize=(25,7))\n",
    "plt.hist(df.popularity , facecolor=\"r\" , label=\"popularity\")\n",
    "plt.hist(df.vote_average , facecolor=\"g\" , label=\"vote_average\")\n",
    "plt.legend()\n",
    "plt.ylabel(\"frequency\")\n",
    "plt.title(\"popularity distribution VS vote distribution\");"
   ]
  },
  {
   "cell_type": "markdown",
   "metadata": {},
   "source": [
    "the visualization above make it so obvious how the \"popularity\" data is extremly skewed and with the data on that shape ,I can't answer question like \"what is the most popular movie genre ?\" .. on the other hand , the \"vote_average\" column is normally distributed , so I can answer a similar question \" which movie genre scored the highest vote?\" \n"
   ]
  },
  {
   "cell_type": "code",
   "execution_count": 17,
   "metadata": {},
   "outputs": [],
   "source": [
    "df.drop([\"id\",\"imdb_id\",\"popularity\",\"budget\",\"revenue\",\"original_title\",\"cast\",\"homepage\",\"tagline\",\"keywords\",\"overview\",\"production_companies\",\"vote_count\",\"release_year\"], axis = 1 , inplace=True)\n"
   ]
  },
  {
   "cell_type": "markdown",
   "metadata": {},
   "source": [
    "\n"
   ]
  },
  {
   "cell_type": "code",
   "execution_count": 18,
   "metadata": {
    "scrolled": true
   },
   "outputs": [
    {
     "data": {
      "text/html": [
       "<div>\n",
       "<style scoped>\n",
       "    .dataframe tbody tr th:only-of-type {\n",
       "        vertical-align: middle;\n",
       "    }\n",
       "\n",
       "    .dataframe tbody tr th {\n",
       "        vertical-align: top;\n",
       "    }\n",
       "\n",
       "    .dataframe thead th {\n",
       "        text-align: right;\n",
       "    }\n",
       "</style>\n",
       "<table border=\"1\" class=\"dataframe\">\n",
       "  <thead>\n",
       "    <tr style=\"text-align: right;\">\n",
       "      <th></th>\n",
       "      <th>director</th>\n",
       "      <th>runtime</th>\n",
       "      <th>genres</th>\n",
       "      <th>release_date</th>\n",
       "      <th>vote_average</th>\n",
       "      <th>budget_adj</th>\n",
       "      <th>revenue_adj</th>\n",
       "    </tr>\n",
       "  </thead>\n",
       "  <tbody>\n",
       "    <tr>\n",
       "      <th>0</th>\n",
       "      <td>Colin Trevorrow</td>\n",
       "      <td>124</td>\n",
       "      <td>Action|Adventure|Science Fiction|Thriller</td>\n",
       "      <td>6/9/15</td>\n",
       "      <td>6.50</td>\n",
       "      <td>137,999,939.28</td>\n",
       "      <td>1,392,445,892.52</td>\n",
       "    </tr>\n",
       "    <tr>\n",
       "      <th>1</th>\n",
       "      <td>George Miller</td>\n",
       "      <td>120</td>\n",
       "      <td>Action|Adventure|Science Fiction|Thriller</td>\n",
       "      <td>5/13/15</td>\n",
       "      <td>7.10</td>\n",
       "      <td>137,999,939.28</td>\n",
       "      <td>348,161,292.49</td>\n",
       "    </tr>\n",
       "    <tr>\n",
       "      <th>2</th>\n",
       "      <td>Robert Schwentke</td>\n",
       "      <td>119</td>\n",
       "      <td>Adventure|Science Fiction|Thriller</td>\n",
       "      <td>3/18/15</td>\n",
       "      <td>6.30</td>\n",
       "      <td>101,199,955.47</td>\n",
       "      <td>271,619,025.41</td>\n",
       "    </tr>\n",
       "    <tr>\n",
       "      <th>3</th>\n",
       "      <td>J.J. Abrams</td>\n",
       "      <td>136</td>\n",
       "      <td>Action|Adventure|Science Fiction|Fantasy</td>\n",
       "      <td>12/15/15</td>\n",
       "      <td>7.50</td>\n",
       "      <td>183,999,919.04</td>\n",
       "      <td>1,902,723,129.80</td>\n",
       "    </tr>\n",
       "    <tr>\n",
       "      <th>4</th>\n",
       "      <td>James Wan</td>\n",
       "      <td>137</td>\n",
       "      <td>Action|Crime|Thriller</td>\n",
       "      <td>4/1/15</td>\n",
       "      <td>7.30</td>\n",
       "      <td>174,799,923.09</td>\n",
       "      <td>1,385,748,801.47</td>\n",
       "    </tr>\n",
       "  </tbody>\n",
       "</table>\n",
       "</div>"
      ],
      "text/plain": [
       "           director  runtime                                     genres  \\\n",
       "0   Colin Trevorrow      124  Action|Adventure|Science Fiction|Thriller   \n",
       "1     George Miller      120  Action|Adventure|Science Fiction|Thriller   \n",
       "2  Robert Schwentke      119         Adventure|Science Fiction|Thriller   \n",
       "3       J.J. Abrams      136   Action|Adventure|Science Fiction|Fantasy   \n",
       "4         James Wan      137                      Action|Crime|Thriller   \n",
       "\n",
       "  release_date         vote_average           budget_adj          revenue_adj  \n",
       "0       6/9/15                 6.50       137,999,939.28     1,392,445,892.52  \n",
       "1      5/13/15                 7.10       137,999,939.28       348,161,292.49  \n",
       "2      3/18/15                 6.30       101,199,955.47       271,619,025.41  \n",
       "3     12/15/15                 7.50       183,999,919.04     1,902,723,129.80  \n",
       "4       4/1/15                 7.30       174,799,923.09     1,385,748,801.47  "
      ]
     },
     "execution_count": 18,
     "metadata": {},
     "output_type": "execute_result"
    }
   ],
   "source": [
    "df.head()"
   ]
  },
  {
   "cell_type": "markdown",
   "metadata": {},
   "source": [
    "Now let's have an abstract look at the remaining column "
   ]
  },
  {
   "cell_type": "code",
   "execution_count": 19,
   "metadata": {},
   "outputs": [
    {
     "name": "stdout",
     "output_type": "stream",
     "text": [
      "<class 'pandas.core.frame.DataFrame'>\n",
      "RangeIndex: 10866 entries, 0 to 10865\n",
      "Data columns (total 7 columns):\n",
      " #   Column        Non-Null Count  Dtype  \n",
      "---  ------        --------------  -----  \n",
      " 0   director      10822 non-null  object \n",
      " 1   runtime       10866 non-null  int64  \n",
      " 2   genres        10843 non-null  object \n",
      " 3   release_date  10866 non-null  object \n",
      " 4   vote_average  10866 non-null  float64\n",
      " 5   budget_adj    10866 non-null  float64\n",
      " 6   revenue_adj   10866 non-null  float64\n",
      "dtypes: float64(3), int64(1), object(3)\n",
      "memory usage: 594.4+ KB\n"
     ]
    }
   ],
   "source": [
    "df.info()"
   ]
  },
  {
   "cell_type": "markdown",
   "metadata": {},
   "source": [
    "We notice that not all the columns cotain the same number of observations ( Null values )... Let's handle that"
   ]
  },
  {
   "cell_type": "code",
   "execution_count": 20,
   "metadata": {},
   "outputs": [
    {
     "data": {
      "text/plain": [
       "director        44\n",
       "runtime          0\n",
       "genres          23\n",
       "release_date     0\n",
       "vote_average     0\n",
       "budget_adj       0\n",
       "revenue_adj      0\n",
       "dtype: int64"
      ]
     },
     "execution_count": 20,
     "metadata": {},
     "output_type": "execute_result"
    }
   ],
   "source": [
    "df.isnull().sum()"
   ]
  },
  {
   "cell_type": "code",
   "execution_count": 21,
   "metadata": {},
   "outputs": [
    {
     "data": {
      "text/plain": [
       "(10866, 7)"
      ]
     },
     "execution_count": 21,
     "metadata": {},
     "output_type": "execute_result"
    }
   ],
   "source": [
    "df.shape"
   ]
  },
  {
   "cell_type": "markdown",
   "metadata": {},
   "source": [
    "So it appears that the \"director\" , \"genres\" columns have null values .. And I chose to handle them by simply drop them \n",
    "# But why?\n",
    "the data set have 10866 rows and at the worst case I could've only deleted just 67 rows , so given the size of our data set that shouldn't affect my analysis"
   ]
  },
  {
   "cell_type": "code",
   "execution_count": 22,
   "metadata": {},
   "outputs": [],
   "source": [
    "df.dropna(axis=0,inplace = True)"
   ]
  },
  {
   "cell_type": "code",
   "execution_count": 23,
   "metadata": {},
   "outputs": [
    {
     "data": {
      "text/plain": [
       "director        0\n",
       "runtime         0\n",
       "genres          0\n",
       "release_date    0\n",
       "vote_average    0\n",
       "budget_adj      0\n",
       "revenue_adj     0\n",
       "dtype: int64"
      ]
     },
     "execution_count": 23,
     "metadata": {},
     "output_type": "execute_result"
    }
   ],
   "source": [
    "df.isnull().sum()"
   ]
  },
  {
   "cell_type": "code",
   "execution_count": 24,
   "metadata": {},
   "outputs": [
    {
     "data": {
      "text/plain": [
       "(10801, 7)"
      ]
     },
     "execution_count": 24,
     "metadata": {},
     "output_type": "execute_result"
    }
   ],
   "source": [
    "df.shape"
   ]
  },
  {
   "cell_type": "markdown",
   "metadata": {},
   "source": [
    "checking for duplicated rows"
   ]
  },
  {
   "cell_type": "code",
   "execution_count": 25,
   "metadata": {},
   "outputs": [
    {
     "data": {
      "text/plain": [
       "1"
      ]
     },
     "execution_count": 25,
     "metadata": {},
     "output_type": "execute_result"
    }
   ],
   "source": [
    "df.duplicated().sum()"
   ]
  },
  {
   "cell_type": "markdown",
   "metadata": {},
   "source": [
    "So we do have one duplicated row .. Let's drop it"
   ]
  },
  {
   "cell_type": "code",
   "execution_count": 26,
   "metadata": {},
   "outputs": [],
   "source": [
    "df.drop_duplicates(inplace=True)"
   ]
  },
  {
   "cell_type": "code",
   "execution_count": 27,
   "metadata": {},
   "outputs": [
    {
     "data": {
      "text/plain": [
       "False"
      ]
     },
     "execution_count": 27,
     "metadata": {},
     "output_type": "execute_result"
    }
   ],
   "source": [
    "#checking \n",
    "df.duplicated().any()"
   ]
  },
  {
   "cell_type": "code",
   "execution_count": 28,
   "metadata": {},
   "outputs": [
    {
     "data": {
      "text/plain": [
       "(10800, 7)"
      ]
     },
     "execution_count": 28,
     "metadata": {},
     "output_type": "execute_result"
    }
   ],
   "source": [
    "df.shape"
   ]
  },
  {
   "cell_type": "markdown",
   "metadata": {},
   "source": [
    "I always intend to have a quick look at the excel sheet itself , that helps me figuring out more problems with my data .\n",
    "When I looked at this excel sheet , I noticed many cases which have zero values in the \"budget_adj\"\t, \"revenue_adj\" columns .\n",
    "Let's see how many rows have this issue and how we could handle it."
   ]
  },
  {
   "cell_type": "code",
   "execution_count": 29,
   "metadata": {},
   "outputs": [
    {
     "data": {
      "text/plain": [
       "6947"
      ]
     },
     "execution_count": 29,
     "metadata": {},
     "output_type": "execute_result"
    }
   ],
   "source": [
    "df.query(\"(budget_adj == 0) or (revenue_adj == 0)\").shape[0]"
   ]
  },
  {
   "cell_type": "markdown",
   "metadata": {},
   "source": [
    "6947 row !!!! .. That's alot and those observations will affect the results of the mean function I will apply it later so I've got to remove these rows. "
   ]
  },
  {
   "cell_type": "code",
   "execution_count": 30,
   "metadata": {},
   "outputs": [],
   "source": [
    "# let's get the indices of the rows where budget_adj = 0\n",
    "indl=df.index[df['budget_adj'] == 0].tolist()"
   ]
  },
  {
   "cell_type": "code",
   "execution_count": 31,
   "metadata": {},
   "outputs": [],
   "source": [
    "# now let's drop them\n",
    "df.drop(indl,inplace=True)"
   ]
  },
  {
   "cell_type": "code",
   "execution_count": 32,
   "metadata": {},
   "outputs": [
    {
     "data": {
      "text/plain": [
       "[]"
      ]
     },
     "execution_count": 32,
     "metadata": {},
     "output_type": "execute_result"
    }
   ],
   "source": [
    "# checking\n",
    "df.index[df['budget_adj'] == 0].tolist()"
   ]
  },
  {
   "cell_type": "code",
   "execution_count": 33,
   "metadata": {},
   "outputs": [],
   "source": [
    "# we do the same for the rows that have \"revenue_adj=0\"\n",
    "df.drop(df.index[df['revenue_adj'] == 0].tolist(),inplace=True)"
   ]
  },
  {
   "cell_type": "code",
   "execution_count": 34,
   "metadata": {},
   "outputs": [
    {
     "data": {
      "text/plain": [
       "0"
      ]
     },
     "execution_count": 34,
     "metadata": {},
     "output_type": "execute_result"
    }
   ],
   "source": [
    "# checking that we've removed the 6947 rows\n",
    "df.query(\"(budget_adj == 0) or (revenue_adj == 0)\").shape[0]"
   ]
  },
  {
   "cell_type": "markdown",
   "metadata": {},
   "source": [
    "Now we have a cleaner data and we will use this data to answer our questions but the problem is we can't use this data at its current structure so we have to restructure some of these columns as follows in the next section"
   ]
  },
  {
   "cell_type": "markdown",
   "metadata": {},
   "source": [
    "<a id='reconstruct'></a>\n",
    "# Columns Restructuring"
   ]
  },
  {
   "cell_type": "markdown",
   "metadata": {},
   "source": [
    "### The single movie goes under different genres ..takinng \"Jurassic World\" for example , it goes under \"Action|Adventure|Science Fiction|Thriller\" and here's the problem .. I wanna answer different questions abost each seprated genre like \"Which was the most profitable movie genre simce 1960??\" , in order to do so I have to first find each genre in the data set then somehow determine if a certain movie goes under a certain genre or not .\n",
    "# Let's break that down!"
   ]
  },
  {
   "cell_type": "code",
   "execution_count": 35,
   "metadata": {},
   "outputs": [
    {
     "data": {
      "text/plain": [
       "{'Action',\n",
       " 'Adventure',\n",
       " 'Animation',\n",
       " 'Comedy',\n",
       " 'Crime',\n",
       " 'Documentary',\n",
       " 'Drama',\n",
       " 'Family',\n",
       " 'Fantasy',\n",
       " 'Foreign',\n",
       " 'History',\n",
       " 'Horror',\n",
       " 'Music',\n",
       " 'Mystery',\n",
       " 'Romance',\n",
       " 'Science Fiction',\n",
       " 'TV Movie',\n",
       " 'Thriller',\n",
       " 'War',\n",
       " 'Western'}"
      ]
     },
     "execution_count": 35,
     "metadata": {},
     "output_type": "execute_result"
    }
   ],
   "source": [
    "# here's how I found each unique genre in the dataset\n",
    "genre_list=[]\n",
    "for genres in df['genres'].iteritems():\n",
    "    genre_list.extend(genres[1].split(\"|\"))\n",
    "ugenres=set(genre_list)\n",
    "ugenres"
   ]
  },
  {
   "cell_type": "code",
   "execution_count": 36,
   "metadata": {},
   "outputs": [],
   "source": [
    "# then I featured a new columnn for each genre contains a boolean values of whether the film of the row goes under that genre or not.\n",
    "for genre in ugenres:\n",
    "    df[genre] = df[\"genres\"].str.contains(genre)"
   ]
  },
  {
   "cell_type": "code",
   "execution_count": 37,
   "metadata": {},
   "outputs": [
    {
     "data": {
      "text/html": [
       "<div>\n",
       "<style scoped>\n",
       "    .dataframe tbody tr th:only-of-type {\n",
       "        vertical-align: middle;\n",
       "    }\n",
       "\n",
       "    .dataframe tbody tr th {\n",
       "        vertical-align: top;\n",
       "    }\n",
       "\n",
       "    .dataframe thead th {\n",
       "        text-align: right;\n",
       "    }\n",
       "</style>\n",
       "<table border=\"1\" class=\"dataframe\">\n",
       "  <thead>\n",
       "    <tr style=\"text-align: right;\">\n",
       "      <th></th>\n",
       "      <th>director</th>\n",
       "      <th>runtime</th>\n",
       "      <th>genres</th>\n",
       "      <th>release_date</th>\n",
       "      <th>vote_average</th>\n",
       "      <th>budget_adj</th>\n",
       "      <th>revenue_adj</th>\n",
       "      <th>Foreign</th>\n",
       "      <th>Mystery</th>\n",
       "      <th>TV Movie</th>\n",
       "      <th>...</th>\n",
       "      <th>Family</th>\n",
       "      <th>Adventure</th>\n",
       "      <th>History</th>\n",
       "      <th>Western</th>\n",
       "      <th>Animation</th>\n",
       "      <th>War</th>\n",
       "      <th>Fantasy</th>\n",
       "      <th>Action</th>\n",
       "      <th>Science Fiction</th>\n",
       "      <th>Drama</th>\n",
       "    </tr>\n",
       "  </thead>\n",
       "  <tbody>\n",
       "    <tr>\n",
       "      <th>0</th>\n",
       "      <td>Colin Trevorrow</td>\n",
       "      <td>124</td>\n",
       "      <td>Action|Adventure|Science Fiction|Thriller</td>\n",
       "      <td>6/9/15</td>\n",
       "      <td>6.50</td>\n",
       "      <td>137,999,939.28</td>\n",
       "      <td>1,392,445,892.52</td>\n",
       "      <td>False</td>\n",
       "      <td>False</td>\n",
       "      <td>False</td>\n",
       "      <td>...</td>\n",
       "      <td>False</td>\n",
       "      <td>True</td>\n",
       "      <td>False</td>\n",
       "      <td>False</td>\n",
       "      <td>False</td>\n",
       "      <td>False</td>\n",
       "      <td>False</td>\n",
       "      <td>True</td>\n",
       "      <td>True</td>\n",
       "      <td>False</td>\n",
       "    </tr>\n",
       "    <tr>\n",
       "      <th>1</th>\n",
       "      <td>George Miller</td>\n",
       "      <td>120</td>\n",
       "      <td>Action|Adventure|Science Fiction|Thriller</td>\n",
       "      <td>5/13/15</td>\n",
       "      <td>7.10</td>\n",
       "      <td>137,999,939.28</td>\n",
       "      <td>348,161,292.49</td>\n",
       "      <td>False</td>\n",
       "      <td>False</td>\n",
       "      <td>False</td>\n",
       "      <td>...</td>\n",
       "      <td>False</td>\n",
       "      <td>True</td>\n",
       "      <td>False</td>\n",
       "      <td>False</td>\n",
       "      <td>False</td>\n",
       "      <td>False</td>\n",
       "      <td>False</td>\n",
       "      <td>True</td>\n",
       "      <td>True</td>\n",
       "      <td>False</td>\n",
       "    </tr>\n",
       "    <tr>\n",
       "      <th>2</th>\n",
       "      <td>Robert Schwentke</td>\n",
       "      <td>119</td>\n",
       "      <td>Adventure|Science Fiction|Thriller</td>\n",
       "      <td>3/18/15</td>\n",
       "      <td>6.30</td>\n",
       "      <td>101,199,955.47</td>\n",
       "      <td>271,619,025.41</td>\n",
       "      <td>False</td>\n",
       "      <td>False</td>\n",
       "      <td>False</td>\n",
       "      <td>...</td>\n",
       "      <td>False</td>\n",
       "      <td>True</td>\n",
       "      <td>False</td>\n",
       "      <td>False</td>\n",
       "      <td>False</td>\n",
       "      <td>False</td>\n",
       "      <td>False</td>\n",
       "      <td>False</td>\n",
       "      <td>True</td>\n",
       "      <td>False</td>\n",
       "    </tr>\n",
       "    <tr>\n",
       "      <th>3</th>\n",
       "      <td>J.J. Abrams</td>\n",
       "      <td>136</td>\n",
       "      <td>Action|Adventure|Science Fiction|Fantasy</td>\n",
       "      <td>12/15/15</td>\n",
       "      <td>7.50</td>\n",
       "      <td>183,999,919.04</td>\n",
       "      <td>1,902,723,129.80</td>\n",
       "      <td>False</td>\n",
       "      <td>False</td>\n",
       "      <td>False</td>\n",
       "      <td>...</td>\n",
       "      <td>False</td>\n",
       "      <td>True</td>\n",
       "      <td>False</td>\n",
       "      <td>False</td>\n",
       "      <td>False</td>\n",
       "      <td>False</td>\n",
       "      <td>True</td>\n",
       "      <td>True</td>\n",
       "      <td>True</td>\n",
       "      <td>False</td>\n",
       "    </tr>\n",
       "    <tr>\n",
       "      <th>4</th>\n",
       "      <td>James Wan</td>\n",
       "      <td>137</td>\n",
       "      <td>Action|Crime|Thriller</td>\n",
       "      <td>4/1/15</td>\n",
       "      <td>7.30</td>\n",
       "      <td>174,799,923.09</td>\n",
       "      <td>1,385,748,801.47</td>\n",
       "      <td>False</td>\n",
       "      <td>False</td>\n",
       "      <td>False</td>\n",
       "      <td>...</td>\n",
       "      <td>False</td>\n",
       "      <td>False</td>\n",
       "      <td>False</td>\n",
       "      <td>False</td>\n",
       "      <td>False</td>\n",
       "      <td>False</td>\n",
       "      <td>False</td>\n",
       "      <td>True</td>\n",
       "      <td>False</td>\n",
       "      <td>False</td>\n",
       "    </tr>\n",
       "  </tbody>\n",
       "</table>\n",
       "<p>5 rows × 27 columns</p>\n",
       "</div>"
      ],
      "text/plain": [
       "           director  runtime                                     genres  \\\n",
       "0   Colin Trevorrow      124  Action|Adventure|Science Fiction|Thriller   \n",
       "1     George Miller      120  Action|Adventure|Science Fiction|Thriller   \n",
       "2  Robert Schwentke      119         Adventure|Science Fiction|Thriller   \n",
       "3       J.J. Abrams      136   Action|Adventure|Science Fiction|Fantasy   \n",
       "4         James Wan      137                      Action|Crime|Thriller   \n",
       "\n",
       "  release_date         vote_average           budget_adj          revenue_adj  \\\n",
       "0       6/9/15                 6.50       137,999,939.28     1,392,445,892.52   \n",
       "1      5/13/15                 7.10       137,999,939.28       348,161,292.49   \n",
       "2      3/18/15                 6.30       101,199,955.47       271,619,025.41   \n",
       "3     12/15/15                 7.50       183,999,919.04     1,902,723,129.80   \n",
       "4       4/1/15                 7.30       174,799,923.09     1,385,748,801.47   \n",
       "\n",
       "   Foreign  Mystery  TV Movie  ...  Family  Adventure  History  Western  \\\n",
       "0    False    False     False  ...   False       True    False    False   \n",
       "1    False    False     False  ...   False       True    False    False   \n",
       "2    False    False     False  ...   False       True    False    False   \n",
       "3    False    False     False  ...   False       True    False    False   \n",
       "4    False    False     False  ...   False      False    False    False   \n",
       "\n",
       "   Animation    War  Fantasy  Action  Science Fiction  Drama  \n",
       "0      False  False    False    True             True  False  \n",
       "1      False  False    False    True             True  False  \n",
       "2      False  False    False   False             True  False  \n",
       "3      False  False     True    True             True  False  \n",
       "4      False  False    False    True            False  False  \n",
       "\n",
       "[5 rows x 27 columns]"
      ]
     },
     "execution_count": 37,
     "metadata": {},
     "output_type": "execute_result"
    }
   ],
   "source": [
    "# let's take a look\n",
    "df.head()"
   ]
  },
  {
   "cell_type": "code",
   "execution_count": 38,
   "metadata": {},
   "outputs": [],
   "source": [
    "# then I droped the genre column .. It's not valuable to my analysis any more.\n",
    "df.drop([\"genres\"],axis=1,inplace=True)"
   ]
  },
  {
   "cell_type": "code",
   "execution_count": 39,
   "metadata": {},
   "outputs": [
    {
     "data": {
      "text/plain": [
       "(3853, 26)"
      ]
     },
     "execution_count": 39,
     "metadata": {},
     "output_type": "execute_result"
    }
   ],
   "source": [
    "# the shape of the dataframe now becomes..\n",
    "df.shape"
   ]
  },
  {
   "cell_type": "markdown",
   "metadata": {},
   "source": [
    "### the second issue I wanna fix before answering my questions is the \"release_date\" column ... the thing is I just want the month value from that column to answer a future qustion , so I have to terminate the rest of the date information."
   ]
  },
  {
   "cell_type": "code",
   "execution_count": 40,
   "metadata": {},
   "outputs": [],
   "source": [
    "df[\"release_date\"]=df[\"release_date\"].apply(lambda x: x.split(\"/\")[0])"
   ]
  },
  {
   "cell_type": "code",
   "execution_count": 41,
   "metadata": {},
   "outputs": [
    {
     "data": {
      "text/html": [
       "<div>\n",
       "<style scoped>\n",
       "    .dataframe tbody tr th:only-of-type {\n",
       "        vertical-align: middle;\n",
       "    }\n",
       "\n",
       "    .dataframe tbody tr th {\n",
       "        vertical-align: top;\n",
       "    }\n",
       "\n",
       "    .dataframe thead th {\n",
       "        text-align: right;\n",
       "    }\n",
       "</style>\n",
       "<table border=\"1\" class=\"dataframe\">\n",
       "  <thead>\n",
       "    <tr style=\"text-align: right;\">\n",
       "      <th></th>\n",
       "      <th>director</th>\n",
       "      <th>runtime</th>\n",
       "      <th>release_date</th>\n",
       "      <th>vote_average</th>\n",
       "      <th>budget_adj</th>\n",
       "      <th>revenue_adj</th>\n",
       "      <th>Foreign</th>\n",
       "      <th>Mystery</th>\n",
       "      <th>TV Movie</th>\n",
       "      <th>Documentary</th>\n",
       "      <th>...</th>\n",
       "      <th>Family</th>\n",
       "      <th>Adventure</th>\n",
       "      <th>History</th>\n",
       "      <th>Western</th>\n",
       "      <th>Animation</th>\n",
       "      <th>War</th>\n",
       "      <th>Fantasy</th>\n",
       "      <th>Action</th>\n",
       "      <th>Science Fiction</th>\n",
       "      <th>Drama</th>\n",
       "    </tr>\n",
       "  </thead>\n",
       "  <tbody>\n",
       "    <tr>\n",
       "      <th>0</th>\n",
       "      <td>Colin Trevorrow</td>\n",
       "      <td>124</td>\n",
       "      <td>6</td>\n",
       "      <td>6.50</td>\n",
       "      <td>137,999,939.28</td>\n",
       "      <td>1,392,445,892.52</td>\n",
       "      <td>False</td>\n",
       "      <td>False</td>\n",
       "      <td>False</td>\n",
       "      <td>False</td>\n",
       "      <td>...</td>\n",
       "      <td>False</td>\n",
       "      <td>True</td>\n",
       "      <td>False</td>\n",
       "      <td>False</td>\n",
       "      <td>False</td>\n",
       "      <td>False</td>\n",
       "      <td>False</td>\n",
       "      <td>True</td>\n",
       "      <td>True</td>\n",
       "      <td>False</td>\n",
       "    </tr>\n",
       "    <tr>\n",
       "      <th>1</th>\n",
       "      <td>George Miller</td>\n",
       "      <td>120</td>\n",
       "      <td>5</td>\n",
       "      <td>7.10</td>\n",
       "      <td>137,999,939.28</td>\n",
       "      <td>348,161,292.49</td>\n",
       "      <td>False</td>\n",
       "      <td>False</td>\n",
       "      <td>False</td>\n",
       "      <td>False</td>\n",
       "      <td>...</td>\n",
       "      <td>False</td>\n",
       "      <td>True</td>\n",
       "      <td>False</td>\n",
       "      <td>False</td>\n",
       "      <td>False</td>\n",
       "      <td>False</td>\n",
       "      <td>False</td>\n",
       "      <td>True</td>\n",
       "      <td>True</td>\n",
       "      <td>False</td>\n",
       "    </tr>\n",
       "    <tr>\n",
       "      <th>2</th>\n",
       "      <td>Robert Schwentke</td>\n",
       "      <td>119</td>\n",
       "      <td>3</td>\n",
       "      <td>6.30</td>\n",
       "      <td>101,199,955.47</td>\n",
       "      <td>271,619,025.41</td>\n",
       "      <td>False</td>\n",
       "      <td>False</td>\n",
       "      <td>False</td>\n",
       "      <td>False</td>\n",
       "      <td>...</td>\n",
       "      <td>False</td>\n",
       "      <td>True</td>\n",
       "      <td>False</td>\n",
       "      <td>False</td>\n",
       "      <td>False</td>\n",
       "      <td>False</td>\n",
       "      <td>False</td>\n",
       "      <td>False</td>\n",
       "      <td>True</td>\n",
       "      <td>False</td>\n",
       "    </tr>\n",
       "    <tr>\n",
       "      <th>3</th>\n",
       "      <td>J.J. Abrams</td>\n",
       "      <td>136</td>\n",
       "      <td>12</td>\n",
       "      <td>7.50</td>\n",
       "      <td>183,999,919.04</td>\n",
       "      <td>1,902,723,129.80</td>\n",
       "      <td>False</td>\n",
       "      <td>False</td>\n",
       "      <td>False</td>\n",
       "      <td>False</td>\n",
       "      <td>...</td>\n",
       "      <td>False</td>\n",
       "      <td>True</td>\n",
       "      <td>False</td>\n",
       "      <td>False</td>\n",
       "      <td>False</td>\n",
       "      <td>False</td>\n",
       "      <td>True</td>\n",
       "      <td>True</td>\n",
       "      <td>True</td>\n",
       "      <td>False</td>\n",
       "    </tr>\n",
       "    <tr>\n",
       "      <th>4</th>\n",
       "      <td>James Wan</td>\n",
       "      <td>137</td>\n",
       "      <td>4</td>\n",
       "      <td>7.30</td>\n",
       "      <td>174,799,923.09</td>\n",
       "      <td>1,385,748,801.47</td>\n",
       "      <td>False</td>\n",
       "      <td>False</td>\n",
       "      <td>False</td>\n",
       "      <td>False</td>\n",
       "      <td>...</td>\n",
       "      <td>False</td>\n",
       "      <td>False</td>\n",
       "      <td>False</td>\n",
       "      <td>False</td>\n",
       "      <td>False</td>\n",
       "      <td>False</td>\n",
       "      <td>False</td>\n",
       "      <td>True</td>\n",
       "      <td>False</td>\n",
       "      <td>False</td>\n",
       "    </tr>\n",
       "  </tbody>\n",
       "</table>\n",
       "<p>5 rows × 26 columns</p>\n",
       "</div>"
      ],
      "text/plain": [
       "           director  runtime release_date         vote_average  \\\n",
       "0   Colin Trevorrow      124            6                 6.50   \n",
       "1     George Miller      120            5                 7.10   \n",
       "2  Robert Schwentke      119            3                 6.30   \n",
       "3       J.J. Abrams      136           12                 7.50   \n",
       "4         James Wan      137            4                 7.30   \n",
       "\n",
       "            budget_adj          revenue_adj  Foreign  Mystery  TV Movie  \\\n",
       "0       137,999,939.28     1,392,445,892.52    False    False     False   \n",
       "1       137,999,939.28       348,161,292.49    False    False     False   \n",
       "2       101,199,955.47       271,619,025.41    False    False     False   \n",
       "3       183,999,919.04     1,902,723,129.80    False    False     False   \n",
       "4       174,799,923.09     1,385,748,801.47    False    False     False   \n",
       "\n",
       "   Documentary  ...  Family  Adventure  History  Western  Animation    War  \\\n",
       "0        False  ...   False       True    False    False      False  False   \n",
       "1        False  ...   False       True    False    False      False  False   \n",
       "2        False  ...   False       True    False    False      False  False   \n",
       "3        False  ...   False       True    False    False      False  False   \n",
       "4        False  ...   False      False    False    False      False  False   \n",
       "\n",
       "   Fantasy  Action  Science Fiction  Drama  \n",
       "0    False    True             True  False  \n",
       "1    False    True             True  False  \n",
       "2    False   False             True  False  \n",
       "3     True    True             True  False  \n",
       "4    False    True            False  False  \n",
       "\n",
       "[5 rows x 26 columns]"
      ]
     },
     "execution_count": 41,
     "metadata": {},
     "output_type": "execute_result"
    }
   ],
   "source": [
    "# let's take a look\n",
    "df.head()"
   ]
  },
  {
   "cell_type": "code",
   "execution_count": 42,
   "metadata": {},
   "outputs": [
    {
     "data": {
      "text/plain": [
       "array(['6', '5', '3', '12', '4', '9', '10', '2', '1', '7', '11', '8'],\n",
       "      dtype=object)"
      ]
     },
     "execution_count": 42,
     "metadata": {},
     "output_type": "execute_result"
    }
   ],
   "source": [
    "# in this cell I just wanted to make sure the months values are valid\n",
    "df.release_date.unique()"
   ]
  },
  {
   "cell_type": "markdown",
   "metadata": {},
   "source": [
    "<a id='eda'></a>\n",
    "## Exploratory Data Analysis\n",
    "\n",
    "\n",
    "\n",
    "### Question one \n",
    "#### 1.a ) which genre gained the most revenue?\n",
    "#### 1.b ) which genre costed the most budget?\n",
    "#### 1.c ) which genre has the highest rate?"
   ]
  },
  {
   "cell_type": "markdown",
   "metadata": {},
   "source": [
    "## to answer these questions I have to fachion a brand new data frame contain the mean_budget_adj , mean_revenue_adj , mean_vote for columns each genre."
   ]
  },
  {
   "cell_type": "code",
   "execution_count": 43,
   "metadata": {},
   "outputs": [
    {
     "data": {
      "text/html": [
       "<div>\n",
       "<style scoped>\n",
       "    .dataframe tbody tr th:only-of-type {\n",
       "        vertical-align: middle;\n",
       "    }\n",
       "\n",
       "    .dataframe tbody tr th {\n",
       "        vertical-align: top;\n",
       "    }\n",
       "\n",
       "    .dataframe thead th {\n",
       "        text-align: right;\n",
       "    }\n",
       "</style>\n",
       "<table border=\"1\" class=\"dataframe\">\n",
       "  <thead>\n",
       "    <tr style=\"text-align: right;\">\n",
       "      <th></th>\n",
       "      <th>mean_revenue_adj</th>\n",
       "      <th>mean_budget_adj</th>\n",
       "      <th>mean_vote</th>\n",
       "    </tr>\n",
       "  </thead>\n",
       "  <tbody>\n",
       "    <tr>\n",
       "      <th>Foreign</th>\n",
       "      <td>12,866,538.21</td>\n",
       "      <td>13,620,307.87</td>\n",
       "      <td>6.15</td>\n",
       "    </tr>\n",
       "    <tr>\n",
       "      <th>Documentary</th>\n",
       "      <td>24,806,165.83</td>\n",
       "      <td>5,379,701.63</td>\n",
       "      <td>6.66</td>\n",
       "    </tr>\n",
       "    <tr>\n",
       "      <th>TV Movie</th>\n",
       "      <td>58,389,103.04</td>\n",
       "      <td>6,951,083.69</td>\n",
       "      <td>5.60</td>\n",
       "    </tr>\n",
       "    <tr>\n",
       "      <th>Horror</th>\n",
       "      <td>81,406,555.10</td>\n",
       "      <td>23,240,712.11</td>\n",
       "      <td>5.71</td>\n",
       "    </tr>\n",
       "    <tr>\n",
       "      <th>Drama</th>\n",
       "      <td>101,429,884.17</td>\n",
       "      <td>34,729,830.68</td>\n",
       "      <td>6.40</td>\n",
       "    </tr>\n",
       "    <tr>\n",
       "      <th>Crime</th>\n",
       "      <td>110,395,135.21</td>\n",
       "      <td>39,910,067.93</td>\n",
       "      <td>6.30</td>\n",
       "    </tr>\n",
       "    <tr>\n",
       "      <th>Mystery</th>\n",
       "      <td>113,621,019.76</td>\n",
       "      <td>42,362,641.38</td>\n",
       "      <td>6.19</td>\n",
       "    </tr>\n",
       "    <tr>\n",
       "      <th>Romance</th>\n",
       "      <td>113,673,567.75</td>\n",
       "      <td>33,948,856.00</td>\n",
       "      <td>6.19</td>\n",
       "    </tr>\n",
       "    <tr>\n",
       "      <th>Comedy</th>\n",
       "      <td>121,389,713.41</td>\n",
       "      <td>39,202,214.59</td>\n",
       "      <td>6.03</td>\n",
       "    </tr>\n",
       "    <tr>\n",
       "      <th>History</th>\n",
       "      <td>121,661,724.41</td>\n",
       "      <td>56,879,848.02</td>\n",
       "      <td>6.58</td>\n",
       "    </tr>\n",
       "    <tr>\n",
       "      <th>Thriller</th>\n",
       "      <td>128,170,894.62</td>\n",
       "      <td>44,601,766.25</td>\n",
       "      <td>6.07</td>\n",
       "    </tr>\n",
       "    <tr>\n",
       "      <th>Music</th>\n",
       "      <td>134,566,015.89</td>\n",
       "      <td>35,198,015.22</td>\n",
       "      <td>6.32</td>\n",
       "    </tr>\n",
       "    <tr>\n",
       "      <th>Western</th>\n",
       "      <td>135,674,767.39</td>\n",
       "      <td>67,191,065.39</td>\n",
       "      <td>6.47</td>\n",
       "    </tr>\n",
       "    <tr>\n",
       "      <th>War</th>\n",
       "      <td>155,898,111.71</td>\n",
       "      <td>57,272,947.35</td>\n",
       "      <td>6.59</td>\n",
       "    </tr>\n",
       "    <tr>\n",
       "      <th>Action</th>\n",
       "      <td>195,387,938.30</td>\n",
       "      <td>66,442,622.97</td>\n",
       "      <td>6.04</td>\n",
       "    </tr>\n",
       "    <tr>\n",
       "      <th>Science Fiction</th>\n",
       "      <td>202,153,142.41</td>\n",
       "      <td>65,617,223.92</td>\n",
       "      <td>6.03</td>\n",
       "    </tr>\n",
       "    <tr>\n",
       "      <th>Family</th>\n",
       "      <td>243,791,030.52</td>\n",
       "      <td>71,100,994.06</td>\n",
       "      <td>6.13</td>\n",
       "    </tr>\n",
       "    <tr>\n",
       "      <th>Fantasy</th>\n",
       "      <td>249,992,751.60</td>\n",
       "      <td>80,237,516.21</td>\n",
       "      <td>6.06</td>\n",
       "    </tr>\n",
       "    <tr>\n",
       "      <th>Adventure</th>\n",
       "      <td>271,407,469.11</td>\n",
       "      <td>81,255,726.53</td>\n",
       "      <td>6.12</td>\n",
       "    </tr>\n",
       "    <tr>\n",
       "      <th>Animation</th>\n",
       "      <td>290,957,382.26</td>\n",
       "      <td>83,472,152.92</td>\n",
       "      <td>6.38</td>\n",
       "    </tr>\n",
       "  </tbody>\n",
       "</table>\n",
       "</div>"
      ],
      "text/plain": [
       "                    mean_revenue_adj      mean_budget_adj            mean_vote\n",
       "Foreign                12,866,538.21        13,620,307.87                 6.15\n",
       "Documentary            24,806,165.83         5,379,701.63                 6.66\n",
       "TV Movie               58,389,103.04         6,951,083.69                 5.60\n",
       "Horror                 81,406,555.10        23,240,712.11                 5.71\n",
       "Drama                 101,429,884.17        34,729,830.68                 6.40\n",
       "Crime                 110,395,135.21        39,910,067.93                 6.30\n",
       "Mystery               113,621,019.76        42,362,641.38                 6.19\n",
       "Romance               113,673,567.75        33,948,856.00                 6.19\n",
       "Comedy                121,389,713.41        39,202,214.59                 6.03\n",
       "History               121,661,724.41        56,879,848.02                 6.58\n",
       "Thriller              128,170,894.62        44,601,766.25                 6.07\n",
       "Music                 134,566,015.89        35,198,015.22                 6.32\n",
       "Western               135,674,767.39        67,191,065.39                 6.47\n",
       "War                   155,898,111.71        57,272,947.35                 6.59\n",
       "Action                195,387,938.30        66,442,622.97                 6.04\n",
       "Science Fiction       202,153,142.41        65,617,223.92                 6.03\n",
       "Family                243,791,030.52        71,100,994.06                 6.13\n",
       "Fantasy               249,992,751.60        80,237,516.21                 6.06\n",
       "Adventure             271,407,469.11        81,255,726.53                 6.12\n",
       "Animation             290,957,382.26        83,472,152.92                 6.38"
      ]
     },
     "execution_count": 43,
     "metadata": {},
     "output_type": "execute_result"
    }
   ],
   "source": [
    "# This dictionary will be used to create a new data frame\n",
    "# the keys of this dictionary are the parameters I want to evaluate for each genre separately\n",
    "new_df_dict = {\"mean_revenue_adj\": {},\"mean_budget_adj\" : {} ,\"mean_vote\": {} }\n",
    "\n",
    "\n",
    "# here we make use of the boolean columns I featured earlier to mask of the dataframe for each genre and Use that mask to calcu-\n",
    "# ate the values of the prameters I'm interested in and then assign these values to the dictionary above respectively.\n",
    "for genre in ugenres :\n",
    "    \n",
    "    mean_bud_adj = df[df[genre]]['budget_adj'].mean()  \n",
    "    new_df_dict['mean_budget_adj'][genre] = mean_bud_adj\n",
    "    \n",
    "    mean_rev_adj = df[df[genre]]['revenue_adj'].mean()\n",
    "    new_df_dict['mean_revenue_adj'][genre] = mean_rev_adj\n",
    "    \n",
    "    mean_vote = df[df[genre]][\"vote_average\"].mean()\n",
    "    new_df_dict[\"mean_vote\"][genre] = mean_vote\n",
    "\n",
    "# Create and sort the data frame\n",
    "# let's just sort the new_df by thr revenue column for now\n",
    "new_df = pd.DataFrame.from_dict(new_df_dict)\n",
    "new_df.sort_values(by=[\"mean_revenue_adj\"],inplace=True)\n",
    "new_df"
   ]
  },
  {
   "cell_type": "markdown",
   "metadata": {},
   "source": [
    "## Bingo!! now we have our findings , let's visualize the first answer!"
   ]
  },
  {
   "cell_type": "code",
   "execution_count": 44,
   "metadata": {},
   "outputs": [
    {
     "data": {
      "image/png": "[encoded data removed]",
      "text/plain": [
       "<Figure size 1800x504 with 1 Axes>"
      ]
     },
     "metadata": {
      "needs_background": "light"
     },
     "output_type": "display_data"
    }
   ],
   "source": [
    "f, ax = plt.subplots(figsize=(25,7))\n",
    "plt.xticks(np.arange(len(new_df.index)),new_df.index)\n",
    "plt.bar(np.arange(len(new_df.index)),new_df.mean_revenue_adj.values)\n",
    "plt.title(\"revenue of different genre movies from 1960 to 2015\")\n",
    "plt.xlabel(\"genre\")\n",
    "plt.ylabel(\"revenue in hundred million dollars\");"
   ]
  },
  {
   "cell_type": "markdown",
   "metadata": {},
   "source": [
    "So from the visualization above we can see that \"Animation\" is the most profitable genre whereas \"Foreign\" was the least profitable."
   ]
  },
  {
   "cell_type": "markdown",
   "metadata": {},
   "source": [
    "### let's prepare the second answer and visualize it!"
   ]
  },
  {
   "cell_type": "code",
   "execution_count": 45,
   "metadata": {},
   "outputs": [
    {
     "data": {
      "text/html": [
       "<div>\n",
       "<style scoped>\n",
       "    .dataframe tbody tr th:only-of-type {\n",
       "        vertical-align: middle;\n",
       "    }\n",
       "\n",
       "    .dataframe tbody tr th {\n",
       "        vertical-align: top;\n",
       "    }\n",
       "\n",
       "    .dataframe thead th {\n",
       "        text-align: right;\n",
       "    }\n",
       "</style>\n",
       "<table border=\"1\" class=\"dataframe\">\n",
       "  <thead>\n",
       "    <tr style=\"text-align: right;\">\n",
       "      <th></th>\n",
       "      <th>mean_revenue_adj</th>\n",
       "      <th>mean_budget_adj</th>\n",
       "      <th>mean_vote</th>\n",
       "    </tr>\n",
       "  </thead>\n",
       "  <tbody>\n",
       "    <tr>\n",
       "      <th>Documentary</th>\n",
       "      <td>24,806,165.83</td>\n",
       "      <td>5,379,701.63</td>\n",
       "      <td>6.66</td>\n",
       "    </tr>\n",
       "    <tr>\n",
       "      <th>TV Movie</th>\n",
       "      <td>58,389,103.04</td>\n",
       "      <td>6,951,083.69</td>\n",
       "      <td>5.60</td>\n",
       "    </tr>\n",
       "    <tr>\n",
       "      <th>Foreign</th>\n",
       "      <td>12,866,538.21</td>\n",
       "      <td>13,620,307.87</td>\n",
       "      <td>6.15</td>\n",
       "    </tr>\n",
       "    <tr>\n",
       "      <th>Horror</th>\n",
       "      <td>81,406,555.10</td>\n",
       "      <td>23,240,712.11</td>\n",
       "      <td>5.71</td>\n",
       "    </tr>\n",
       "    <tr>\n",
       "      <th>Romance</th>\n",
       "      <td>113,673,567.75</td>\n",
       "      <td>33,948,856.00</td>\n",
       "      <td>6.19</td>\n",
       "    </tr>\n",
       "    <tr>\n",
       "      <th>Drama</th>\n",
       "      <td>101,429,884.17</td>\n",
       "      <td>34,729,830.68</td>\n",
       "      <td>6.40</td>\n",
       "    </tr>\n",
       "    <tr>\n",
       "      <th>Music</th>\n",
       "      <td>134,566,015.89</td>\n",
       "      <td>35,198,015.22</td>\n",
       "      <td>6.32</td>\n",
       "    </tr>\n",
       "    <tr>\n",
       "      <th>Comedy</th>\n",
       "      <td>121,389,713.41</td>\n",
       "      <td>39,202,214.59</td>\n",
       "      <td>6.03</td>\n",
       "    </tr>\n",
       "    <tr>\n",
       "      <th>Crime</th>\n",
       "      <td>110,395,135.21</td>\n",
       "      <td>39,910,067.93</td>\n",
       "      <td>6.30</td>\n",
       "    </tr>\n",
       "    <tr>\n",
       "      <th>Mystery</th>\n",
       "      <td>113,621,019.76</td>\n",
       "      <td>42,362,641.38</td>\n",
       "      <td>6.19</td>\n",
       "    </tr>\n",
       "    <tr>\n",
       "      <th>Thriller</th>\n",
       "      <td>128,170,894.62</td>\n",
       "      <td>44,601,766.25</td>\n",
       "      <td>6.07</td>\n",
       "    </tr>\n",
       "    <tr>\n",
       "      <th>History</th>\n",
       "      <td>121,661,724.41</td>\n",
       "      <td>56,879,848.02</td>\n",
       "      <td>6.58</td>\n",
       "    </tr>\n",
       "    <tr>\n",
       "      <th>War</th>\n",
       "      <td>155,898,111.71</td>\n",
       "      <td>57,272,947.35</td>\n",
       "      <td>6.59</td>\n",
       "    </tr>\n",
       "    <tr>\n",
       "      <th>Science Fiction</th>\n",
       "      <td>202,153,142.41</td>\n",
       "      <td>65,617,223.92</td>\n",
       "      <td>6.03</td>\n",
       "    </tr>\n",
       "    <tr>\n",
       "      <th>Action</th>\n",
       "      <td>195,387,938.30</td>\n",
       "      <td>66,442,622.97</td>\n",
       "      <td>6.04</td>\n",
       "    </tr>\n",
       "    <tr>\n",
       "      <th>Western</th>\n",
       "      <td>135,674,767.39</td>\n",
       "      <td>67,191,065.39</td>\n",
       "      <td>6.47</td>\n",
       "    </tr>\n",
       "    <tr>\n",
       "      <th>Family</th>\n",
       "      <td>243,791,030.52</td>\n",
       "      <td>71,100,994.06</td>\n",
       "      <td>6.13</td>\n",
       "    </tr>\n",
       "    <tr>\n",
       "      <th>Fantasy</th>\n",
       "      <td>249,992,751.60</td>\n",
       "      <td>80,237,516.21</td>\n",
       "      <td>6.06</td>\n",
       "    </tr>\n",
       "    <tr>\n",
       "      <th>Adventure</th>\n",
       "      <td>271,407,469.11</td>\n",
       "      <td>81,255,726.53</td>\n",
       "      <td>6.12</td>\n",
       "    </tr>\n",
       "    <tr>\n",
       "      <th>Animation</th>\n",
       "      <td>290,957,382.26</td>\n",
       "      <td>83,472,152.92</td>\n",
       "      <td>6.38</td>\n",
       "    </tr>\n",
       "  </tbody>\n",
       "</table>\n",
       "</div>"
      ],
      "text/plain": [
       "                    mean_revenue_adj      mean_budget_adj            mean_vote\n",
       "Documentary            24,806,165.83         5,379,701.63                 6.66\n",
       "TV Movie               58,389,103.04         6,951,083.69                 5.60\n",
       "Foreign                12,866,538.21        13,620,307.87                 6.15\n",
       "Horror                 81,406,555.10        23,240,712.11                 5.71\n",
       "Romance               113,673,567.75        33,948,856.00                 6.19\n",
       "Drama                 101,429,884.17        34,729,830.68                 6.40\n",
       "Music                 134,566,015.89        35,198,015.22                 6.32\n",
       "Comedy                121,389,713.41        39,202,214.59                 6.03\n",
       "Crime                 110,395,135.21        39,910,067.93                 6.30\n",
       "Mystery               113,621,019.76        42,362,641.38                 6.19\n",
       "Thriller              128,170,894.62        44,601,766.25                 6.07\n",
       "History               121,661,724.41        56,879,848.02                 6.58\n",
       "War                   155,898,111.71        57,272,947.35                 6.59\n",
       "Science Fiction       202,153,142.41        65,617,223.92                 6.03\n",
       "Action                195,387,938.30        66,442,622.97                 6.04\n",
       "Western               135,674,767.39        67,191,065.39                 6.47\n",
       "Family                243,791,030.52        71,100,994.06                 6.13\n",
       "Fantasy               249,992,751.60        80,237,516.21                 6.06\n",
       "Adventure             271,407,469.11        81,255,726.53                 6.12\n",
       "Animation             290,957,382.26        83,472,152.92                 6.38"
      ]
     },
     "execution_count": 45,
     "metadata": {},
     "output_type": "execute_result"
    }
   ],
   "source": [
    "# first we have to sort the new_df by the \"mean_budget_adj\" column\n",
    "new_df.sort_values(by=[\"mean_budget_adj\"],inplace=True)\n",
    "new_df"
   ]
  },
  {
   "cell_type": "code",
   "execution_count": 46,
   "metadata": {},
   "outputs": [
    {
     "data": {
      "image/png": "[encoded data removed]",
      "text/plain": [
       "<Figure size 1800x504 with 1 Axes>"
      ]
     },
     "metadata": {
      "needs_background": "light"
     },
     "output_type": "display_data"
    }
   ],
   "source": [
    "f, ax = plt.subplots(figsize=(25,7))\n",
    "plt.xticks(np.arange(len(new_df.index)),new_df.index)\n",
    "plt.bar(np.arange(len(new_df.index)),new_df.mean_budget_adj.values)\n",
    "plt.title(\"budjet of different genre movies from 1960 to 2015\")\n",
    "plt.xlabel(\"genre\")\n",
    "plt.ylabel(\"budget in Tens of millions dollars\");"
   ]
  },
  {
   "cell_type": "markdown",
   "metadata": {},
   "source": [
    "So from the visualization above we can see that \"Animation\" genre costed the most whereas \"Documentary\" genre costed the least."
   ]
  },
  {
   "cell_type": "markdown",
   "metadata": {},
   "source": [
    "### the third answer"
   ]
  },
  {
   "cell_type": "code",
   "execution_count": 48,
   "metadata": {},
   "outputs": [
    {
     "data": {
      "image/png": "[encoded data removed]",
      "text/plain": [
       "<Figure size 1800x504 with 1 Axes>"
      ]
     },
     "metadata": {
      "needs_background": "light"
     },
     "output_type": "display_data"
    }
   ],
   "source": [
    "new_df.sort_values(by=[\"mean_vote\"],inplace=True)\n",
    "f, ax = plt.subplots(figsize=(25,7))\n",
    "plt.xticks(np.arange(len(new_df.index)),new_df.index)\n",
    "plt.bar(np.arange(len(new_df.index)),new_df.mean_vote.values)\n",
    "plt.title(\"vote of different genre movies from 1960 to 2015\")\n",
    "plt.xlabel(\"genre\")\n",
    "plt.ylabel(\"vote on a scale of ten\")\n",
    "# In order to see the difference between the mean_vote values which are very close to one another , I changed the limit of the\n",
    "# y axis to start at 5.5 .\n",
    "ax = plt.gca()\n",
    "ax.set_ylim([5.5,7]);"
   ]
  },
  {
   "cell_type": "markdown",
   "metadata": {},
   "source": [
    "So from the visualization above we can see that \"Documentary\" was the critics favourite with a mean vote of 6.66 and \"TV Movie\" was their least favourite with a mean vote of 5.6 "
   ]
  },
  {
   "cell_type": "markdown",
   "metadata": {},
   "source": [
    "### Question two\n",
    "#### which month landed the most revenue?"
   ]
  },
  {
   "cell_type": "markdown",
   "metadata": {},
   "source": [
    "##### the movie industry , like any other industry , gets affected by the time you choose to release your products , so I thought it may be useful to see in which month movies achieve the highest revenue."
   ]
  },
  {
   "cell_type": "code",
   "execution_count": 49,
   "metadata": {},
   "outputs": [],
   "source": [
    "# to answer this question , simply we have to groupby each month and calculate the mean of the revenye gained in this month\n",
    "s=df.groupby(\"release_date\").revenue_adj.mean().sort_values(ascending=True)"
   ]
  },
  {
   "cell_type": "code",
   "execution_count": 50,
   "metadata": {},
   "outputs": [
    {
     "data": {
      "text/plain": [
       "Index(['9', '1', '2', '8', '10', '4', '3', '7', '11', '12', '5', '6'], dtype='object', name='release_date')"
      ]
     },
     "execution_count": 50,
     "metadata": {},
     "output_type": "execute_result"
    }
   ],
   "source": [
    "s.index"
   ]
  },
  {
   "cell_type": "code",
   "execution_count": 51,
   "metadata": {},
   "outputs": [
    {
     "data": {
      "text/plain": [
       "array([6.33089705e+07, 7.14605982e+07, 8.33281379e+07, 8.91807762e+07,\n",
       "       1.01246156e+08, 1.11020284e+08, 1.32550634e+08, 1.75241830e+08,\n",
       "       1.84670805e+08, 1.90175499e+08, 2.04727476e+08, 2.30441575e+08])"
      ]
     },
     "execution_count": 51,
     "metadata": {},
     "output_type": "execute_result"
    }
   ],
   "source": [
    "s.values"
   ]
  },
  {
   "cell_type": "code",
   "execution_count": 52,
   "metadata": {},
   "outputs": [
    {
     "data": {
      "image/png": "[encoded data removed]",
      "text/plain": [
       "<Figure size 1800x504 with 1 Axes>"
      ]
     },
     "metadata": {
      "needs_background": "light"
     },
     "output_type": "display_data"
    }
   ],
   "source": [
    "f, ax = plt.subplots(figsize=(25,7))\n",
    "plt.xticks(np.arange(len(s.index)),s.index)\n",
    "plt.bar(np.arange(len(s.index)),s.values)\n",
    "plt.title(\"movies revenue for each month from 1960 to 2015\")\n",
    "plt.xlabel(\"month\")\n",
    "plt.ylabel(\"revenue in hundred of dollars\");"
   ]
  },
  {
   "cell_type": "markdown",
   "metadata": {},
   "source": [
    "So from the visualization above we can see that \"June\" was the best choice to release a movie whereas \"Sebtember\" was the worst. "
   ]
  },
  {
   "cell_type": "markdown",
   "metadata": {},
   "source": [
    "### Question three\n",
    "#### Is there a relationship beteen the run_time of the movie and the vote it might gets?"
   ]
  },
  {
   "cell_type": "code",
   "execution_count": 54,
   "metadata": {},
   "outputs": [
    {
     "data": {
      "image/png": "[encoded data removed]",
      "text/plain": [
       "<Figure size 1800x504 with 1 Axes>"
      ]
     },
     "metadata": {
      "needs_background": "light"
     },
     "output_type": "display_data"
    }
   ],
   "source": [
    "f, ax = plt.subplots(figsize=(25,7))\n",
    "plt.scatter(df.runtime,df.vote_average,alpha=0.5)\n",
    "m, b = np.polyfit(df.runtime,df.vote_average, 1)\n",
    "plt.plot(df.runtime, m*df.runtime + b)\n",
    "plt.title(\"releationship between runtime and mean_vote\")\n",
    "plt.xlabel(\"runtime in minutes\")\n",
    "plt.ylabel(\"mean_vote on a scale of 10\");"
   ]
  },
  {
   "cell_type": "markdown",
   "metadata": {},
   "source": [
    "So from the visualization above we can see that the is a positive releationship between the duration of the movie and the mean_vote of that movie."
   ]
  },
  {
   "cell_type": "markdown",
   "metadata": {},
   "source": [
    "### Question four\n",
    "#### who is the dominate director in terms of revenue?"
   ]
  },
  {
   "cell_type": "code",
   "execution_count": 55,
   "metadata": {},
   "outputs": [],
   "source": [
    "d_df=pd.DataFrame(df.groupby(\"director\").revenue_adj.mean().sort_values(ascending=False))"
   ]
  },
  {
   "cell_type": "code",
   "execution_count": 56,
   "metadata": {},
   "outputs": [],
   "source": [
    "top_ten=d_df.head(10).sort_values(by=[\"revenue_adj\"])"
   ]
  },
  {
   "cell_type": "code",
   "execution_count": 57,
   "metadata": {},
   "outputs": [
    {
     "data": {
      "text/html": [
       "<div>\n",
       "<style scoped>\n",
       "    .dataframe tbody tr th:only-of-type {\n",
       "        vertical-align: middle;\n",
       "    }\n",
       "\n",
       "    .dataframe tbody tr th {\n",
       "        vertical-align: top;\n",
       "    }\n",
       "\n",
       "    .dataframe thead th {\n",
       "        text-align: right;\n",
       "    }\n",
       "</style>\n",
       "<table border=\"1\" class=\"dataframe\">\n",
       "  <thead>\n",
       "    <tr style=\"text-align: right;\">\n",
       "      <th></th>\n",
       "      <th>revenue_adj</th>\n",
       "    </tr>\n",
       "    <tr>\n",
       "      <th>director</th>\n",
       "      <th></th>\n",
       "    </tr>\n",
       "  </thead>\n",
       "  <tbody>\n",
       "    <tr>\n",
       "      <th>David Yates</th>\n",
       "      <td>1,044,363,814.81</td>\n",
       "    </tr>\n",
       "    <tr>\n",
       "      <th>George Lucas</th>\n",
       "      <td>1,052,319,860.44</td>\n",
       "    </tr>\n",
       "    <tr>\n",
       "      <th>Andrew Adamson|Kelly Asbury|Conrad Vernon</th>\n",
       "      <td>1,061,903,622.74</td>\n",
       "    </tr>\n",
       "    <tr>\n",
       "      <th>Lee Unkrich</th>\n",
       "      <td>1,063,171,911.00</td>\n",
       "    </tr>\n",
       "    <tr>\n",
       "      <th>Kyle Balda|Pierre Coffin</th>\n",
       "      <td>1,064,192,016.80</td>\n",
       "    </tr>\n",
       "    <tr>\n",
       "      <th>Roger Allers|Rob Minkoff</th>\n",
       "      <td>1,159,591,590.01</td>\n",
       "    </tr>\n",
       "    <tr>\n",
       "      <th>Chris Buck|Jennifer Lee</th>\n",
       "      <td>1,192,711,491.12</td>\n",
       "    </tr>\n",
       "    <tr>\n",
       "      <th>Richard Marquand</th>\n",
       "      <td>1,253,818,981.12</td>\n",
       "    </tr>\n",
       "    <tr>\n",
       "      <th>Clyde Geronimi|Hamilton Luske|Wolfgang Reitherman</th>\n",
       "      <td>1,574,814,739.70</td>\n",
       "    </tr>\n",
       "    <tr>\n",
       "      <th>Irwin Winkler</th>\n",
       "      <td>1,583,049,536.35</td>\n",
       "    </tr>\n",
       "  </tbody>\n",
       "</table>\n",
       "</div>"
      ],
      "text/plain": [
       "                                                           revenue_adj\n",
       "director                                                              \n",
       "David Yates                                           1,044,363,814.81\n",
       "George Lucas                                          1,052,319,860.44\n",
       "Andrew Adamson|Kelly Asbury|Conrad Vernon             1,061,903,622.74\n",
       "Lee Unkrich                                           1,063,171,911.00\n",
       "Kyle Balda|Pierre Coffin                              1,064,192,016.80\n",
       "Roger Allers|Rob Minkoff                              1,159,591,590.01\n",
       "Chris Buck|Jennifer Lee                               1,192,711,491.12\n",
       "Richard Marquand                                      1,253,818,981.12\n",
       "Clyde Geronimi|Hamilton Luske|Wolfgang Reitherman     1,574,814,739.70\n",
       "Irwin Winkler                                         1,583,049,536.35"
      ]
     },
     "execution_count": 57,
     "metadata": {},
     "output_type": "execute_result"
    }
   ],
   "source": [
    "top_ten"
   ]
  },
  {
   "cell_type": "code",
   "execution_count": 58,
   "metadata": {},
   "outputs": [
    {
     "data": {
      "image/png": "[encoded data removed]",
      "text/plain": [
       "<Figure size 2520x720 with 1 Axes>"
      ]
     },
     "metadata": {
      "needs_background": "light"
     },
     "output_type": "display_data"
    }
   ],
   "source": [
    "f, ax = plt.subplots(figsize=(35,10))\n",
    "plt.xticks(np.arange(len(top_ten.index)),top_ten.index)\n",
    "plt.bar(np.arange(len(top_ten.index)),top_ten.revenue_adj.values)\n",
    "plt.title(\"top ten directors in terms of revenue from 1960 to 2015\")\n",
    "plt.xlabel(\"director\")\n",
    "plt.ylabel(\"revenue in billion dollars\");"
   ]
  },
  {
   "cell_type": "markdown",
   "metadata": {},
   "source": [
    "So here're our top ten directors in terms of revenue \"Irwin Winkler\" at the top of the list and \"David Yates\" at the tenth position. "
   ]
  },
  {
   "cell_type": "markdown",
   "metadata": {},
   "source": [
    "<a id='conclusions'></a>\n",
    "## Conclusions\n",
    "### From the answer of the first Questuon I conclude the following points:\n",
    "#### The Animatiom,Adventure,Fantasy genres made it to the top three in terms of revenue but the also made it to the top three in terms of budget and order of the genres in the two plots didn't change that much so we can see that in order to get huge revenues , first you have to set fat production budgets.\n",
    "#### intersting opservation also is that the Documentary genre was the first in terms of voting although it was the last in terms of revenue and the sec to the end in terms of budget , that tells us that setting a huge budget for a film doesn't mean the film will score high voting ..It's the critics call after all.\n",
    "### From the answer of the sec Questuon I conclude the following points:\n",
    "#### the top three month was June , May , December and that is pretty convenient ... June and may are the beginning of the summer and December is the holidays month.\n",
    "#### the last three months were Septembre , January , February .. Septembre is the begining of the first semester and January , February are when the exams got hold . \n",
    "### From the answer of the third Questuon I conclude that there is a positive relationship between the length of the movie and the vote it might get\n",
    "\n",
    "\n",
    "### Limitations\n",
    "#### 1-  the data of the \"popularity\" column was so skewed and didn't make any sense.\n",
    "#### 2-  6947 rows had either the \"budget_adj\" or the \"revenue_adj\" set to 0 , so I had to drop them .. that cost me half the size of my data set and I am sure that these columns would've changed the results of my analysis.\n",
    "#### 3- I have used TMBD Movies dataset for my analysis which is limited to only the provided dataset. For example, the dataset does not confirm that every release of every director is listed."
   ]
  },
  {
   "cell_type": "code",
   "execution_count": null,
   "metadata": {},
   "outputs": [],
   "source": []
  }
 ],
 "metadata": {
  "kernelspec": {
   "display_name": "Python 3",
   "language": "python",
   "name": "python3"
  },
  "language_info": {
   "codemirror_mode": {
    "name": "ipython",
    "version": 3
   },
   "file_extension": ".py",
   "mimetype": "text/x-python",
   "name": "python",
   "nbconvert_exporter": "python",
   "pygments_lexer": "ipython3",
   "version": "3.8.5"
  }
 },
 "nbformat": 4,
 "nbformat_minor": 2
}
